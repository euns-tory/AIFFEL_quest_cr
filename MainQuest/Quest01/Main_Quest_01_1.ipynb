{
  "nbformat": 4,
  "nbformat_minor": 0,
  "metadata": {
    "colab": {
      "provenance": [],
      "authorship_tag": "ABX9TyOBYjLMhxzIWoOwF8cKyB8E",
      "include_colab_link": true
    },
    "kernelspec": {
      "name": "python3",
      "display_name": "Python 3"
    },
    "language_info": {
      "name": "python"
    }
  },
  "cells": [
    {
      "cell_type": "markdown",
      "metadata": {
        "id": "view-in-github",
        "colab_type": "text"
      },
      "source": [
        "<a href=\"https://colab.research.google.com/github/euns-tory/AIFFEL_quest_cr/blob/main/MainQuest/Quest01/Main_Quest_01_1.ipynb\" target=\"_parent\"><img src=\"https://colab.research.google.com/assets/colab-badge.svg\" alt=\"Open In Colab\"/></a>"
      ]
    },
    {
      "cell_type": "markdown",
      "source": [],
      "metadata": {
        "id": "vs8x1a6G2TQ4"
      }
    },
    {
      "cell_type": "code",
      "execution_count": null,
      "metadata": {
        "id": "NRQ9JYW916ff"
      },
      "outputs": [],
      "source": [
        "class Acount:\n",
        "  def __init__(self,bank_name,name,account_number,balance)\n",
        "  self.bank_name='SC은행'\n",
        "  self.name=name"
      ]
    },
    {
      "cell_type": "code",
      "source": [
        "from random import *\n",
        "\n",
        "class Acount:\n",
        "  count=0 #인스턴스 개수 세기-생성자 이해하기\n",
        "\n",
        "  def __init__(self,name,init_balance)\n",
        "  Acount.count +=1\n",
        "  self.bank_name='SC은행'\n",
        "  self.name=name\n",
        "  self.account_number=random_number #오류-ransdom_number 정의 안됨\n",
        "  self.init_balance=init_balance\n",
        "\n",
        "  random_number=[]\n",
        "  for i in range(11):\n",
        "    a=randint(0,10)\n",
        "    random_number.append(a)\n",
        "  random_number.insert(3,',')  #111,11,111111\n",
        "  random_number.insert(6,',')\n",
        "  random_number=''.join(random_number) #하나의 문자열로 합치기-join\n",
        "\n",
        "  print(f'생성된 총 개수: {Acount.count} ')  #문자열 포멧팅 f {}\n",
        "  print(f\"은행이름: {self.bank_name}, 예금주: {self.name}, 계좌번호: {self.account_number}, 잔고: {init_balance}\")\n",
        "\n"
      ],
      "metadata": {
        "id": "WRZAZCa442-2"
      },
      "execution_count": null,
      "outputs": []
    },
    {
      "cell_type": "code",
      "source": [
        "    random_number=[]\n",
        "    for i in range(11):\n",
        "      a=randint(0,10)\n",
        "      random_number.append(a)\n",
        "\n",
        "    random_number.insert(3,',')  #111,11,111111\n",
        "    random_number.insert(6,',')\n",
        "\n",
        "    random_number=''.join(random_number) #하나의 문자열로 합치기-join\n",
        "#TypeError: sequence item 0: expected str instance, int found\n",
        "    print(random_number)"
      ],
      "metadata": {
        "colab": {
          "base_uri": "https://localhost:8080/",
          "height": 224
        },
        "id": "ZSUc2ITwCYiO",
        "outputId": "e1ba5696-7804-46b6-f600-3f41004078ce"
      },
      "execution_count": null,
      "outputs": [
        {
          "output_type": "error",
          "ename": "TypeError",
          "evalue": "sequence item 0: expected str instance, int found",
          "traceback": [
            "\u001b[0;31m---------------------------------------------------------------------------\u001b[0m",
            "\u001b[0;31mTypeError\u001b[0m                                 Traceback (most recent call last)",
            "\u001b[0;32m<ipython-input-11-c9ffa277c40b>\u001b[0m in \u001b[0;36m<cell line: 0>\u001b[0;34m()\u001b[0m\n\u001b[1;32m      5\u001b[0m \u001b[0mrandom_number\u001b[0m\u001b[0;34m.\u001b[0m\u001b[0minsert\u001b[0m\u001b[0;34m(\u001b[0m\u001b[0;36m3\u001b[0m\u001b[0;34m,\u001b[0m\u001b[0;34m','\u001b[0m\u001b[0;34m)\u001b[0m  \u001b[0;31m#111,11,111111\u001b[0m\u001b[0;34m\u001b[0m\u001b[0;34m\u001b[0m\u001b[0m\n\u001b[1;32m      6\u001b[0m \u001b[0mrandom_number\u001b[0m\u001b[0;34m.\u001b[0m\u001b[0minsert\u001b[0m\u001b[0;34m(\u001b[0m\u001b[0;36m6\u001b[0m\u001b[0;34m,\u001b[0m\u001b[0;34m','\u001b[0m\u001b[0;34m)\u001b[0m\u001b[0;34m\u001b[0m\u001b[0;34m\u001b[0m\u001b[0m\n\u001b[0;32m----> 7\u001b[0;31m \u001b[0mrandom_number\u001b[0m\u001b[0;34m=\u001b[0m\u001b[0;34m''\u001b[0m\u001b[0;34m.\u001b[0m\u001b[0mjoin\u001b[0m\u001b[0;34m(\u001b[0m\u001b[0mrandom_number\u001b[0m\u001b[0;34m)\u001b[0m \u001b[0;31m#하나의 문자열로 합치기-join\u001b[0m\u001b[0;34m\u001b[0m\u001b[0;34m\u001b[0m\u001b[0m\n\u001b[0m\u001b[1;32m      8\u001b[0m \u001b[0;34m\u001b[0m\u001b[0m\n\u001b[1;32m      9\u001b[0m \u001b[0mprint\u001b[0m\u001b[0;34m(\u001b[0m\u001b[0mrandom_number\u001b[0m\u001b[0;34m)\u001b[0m\u001b[0;34m\u001b[0m\u001b[0;34m\u001b[0m\u001b[0m\n",
            "\u001b[0;31mTypeError\u001b[0m: sequence item 0: expected str instance, int found"
          ]
        }
      ]
    },
    {
      "cell_type": "markdown",
      "source": [
        "Q1. Account 클래스 : 은행에 가서 계좌를 개설하면 은행이름, 예금주, 계좌번호, 잔액이 설정됩니다. Account 클래스를 생성한 후 생성자(hint: 매직매서드..!!)를 구현해보세요. 생성자에서는 예금주와 초기 잔액만 입력 받습니다. 은행이름은 SC은행으로 계좌번호는 3자리-2자리-6자리 형태로 랜덤하게 생성됩니다. (은행이름: SC은행, 계좌번호: 111-11-111111) ㅇ\n",
        "\n",
        "Q2. 클래스 변수: 클래스 변수를 사용해서 Account 클래스로부터 생성된 계좌 객체의 개수를 저장하세요. ㅇ\n",
        "\n",
        "Q3. 클래스 변수 출력 : Account 클래스로부터 생성된 계좌의 개수를 출력하는 get_account_num() 메서드를 추가하세요. ㅇ\n",
        "\n",
        "Q4. 입금 메서드 : Account 클래스에 입금을 위한 deposit 메서드를 추가하세요. 입금은 최소 1원 이상만 가능합니다.\n",
        "\n",
        "Q5. 출금 메서드 : Account 클래스에 출금을 위한 withdraw 메서드를 추가하세요. 출금은 계좌의 잔고 이상으로 출금할 수는 없습니다.\n",
        "\n",
        "Q6. 정보 출력 메서드 : Account 인스턴스에 저장된 정보를 출력하는 display_info() 메서드를 추가하세요. 잔고는 세자리마다 쉼표를 출력하세요.\n",
        "(은행이름: SC은행, 예금주: 파이썬, 계좌번호: 111-11-111111, 잔고: 10,000원)\n",
        "\n",
        "Q7. 이자 지급하기 : 입금 횟수가 5회가 될 때 잔고를 기준으로 1%의 이자가 잔고에 추가되도록 코드를 변경해보세요.\n",
        "\n",
        "Q8. 여러 객체 생성 : Account 클래스로부터 3개 이상 인스턴스를 생성하고 생성된 인스턴스를 리스트에 저장해보세요.\n",
        "\n",
        "Q9. 객체 순회 반복문을 통해 리스트에 있는 객체를 순회하면서 잔고가 100만원 이상인 고객의 정보만 출력하세요.\n",
        "\n",
        "Q10. 입금과 출금 내역이 기록되도록 코드를 업데이트 하세요.\n",
        "(입금 내역과 출금 내역을 출력하는 deposit_history와 withdraw_history 메서드를 추가하세요.)\n"
      ],
      "metadata": {
        "id": "fUx7y-oH3s7q"
      }
    },
    {
      "cell_type": "code",
      "source": [
        "#account를 acount로 사용\n",
        "from random import *\n",
        "\n",
        "class Acount:\n",
        "  count=0 #인스턴스 개수 세기-생성자 이해하기\n",
        "\n",
        "  def __init__(self,name,balance):\n",
        "    random_number=[]\n",
        "    for i in range(11):\n",
        "      a=str(randint(0,10))\n",
        "      random_number.append(a)\n",
        "\n",
        "    random_number.insert(3,'-')  #111,11,111111\n",
        "    random_number.insert(6,'-')\n",
        "    random_number=''.join(random_number) #하나의 문자열로 합치기-join\n",
        "\n",
        "    Acount.count +=1\n",
        "    self.bank_name='SC은행'\n",
        "    self.name=name\n",
        "    self.account_number=random_number\n",
        "    self.balance=balance\n",
        "\n",
        "  def __str__(self):\n",
        "    return f\"{self.name},{self.balance}\" #return 괄호 안 씀...\n",
        "\n",
        "\n",
        "\n",
        "  def get_account_num(self):\n",
        "    print(f'생성된 계좌 총 개수: {Acount.count} ')  #문자열 포멧팅 f {}\n",
        "\n",
        "  def deposit(self,deposit_money):\n",
        "    self.deposit_money=deposit_money #왠지 넣어야할 것 같음\n",
        "    deposit_count=0\n",
        "    if deposit_count<5:\n",
        "      doposit_count+=1\n",
        "      if self.deposit_money>0:                      #그냥 초기 init_balance도 다 balance로 해도 되지 않을까?\n",
        "        self.balance=self.balance+self.deposit_money\n",
        "      else:\n",
        "        print('입금은 1원 이상만 가능합니다.')\n",
        "    elif deposit_count==5:\n",
        "      self.balance=self.balance*1.01\n",
        "      deposit_count-=5\n",
        "\n",
        "\n",
        "\n",
        "\n",
        "  def withdraw(self,withdraw_money):\n",
        "    self.withdraw_money=withdraw_money\n",
        "    if self.withdraw_money>=self.balance:\n",
        "      self.balance=self.balance-self.withdraw_money\n",
        "    else:\n",
        "      print('출금은 계좌의 잔고 이상으로 출금할 수 없습니다. ')\n",
        "\n",
        "\n",
        "  def dispaly_info(self):\n",
        "    self.balance=format(self.balance,',') #format()으로 숫자에 콤마넣기\n",
        "    print(f\"은행이름: {self.bank_name}, 예금주: {self.name}, 계좌번호: {self.account_number}, 잔고: {self.balance}\")\n",
        "\n",
        "#리스트에 저장 8-10\n",
        "clients=[]\n",
        "\n",
        "first_acount=Acount('차',1000)\n",
        "second_acount=Acount('박',30000000)\n",
        "third_acount=Acount('조',50000000)    #각자 출력하면 객체 그러나 리스트로 만들면 주소로 출력\n",
        "\n",
        "clients.append(first_acount)\n",
        "clients.append(second_acount)\n",
        "clients.append(third_acount)\n",
        "\n",
        "for acount in clients:\n",
        "  if\n",
        "    account.display_info()\n"
      ],
      "metadata": {
        "colab": {
          "base_uri": "https://localhost:8080/"
        },
        "id": "NvJRROyZCY6a",
        "outputId": "a3de875c-79e3-4077-beff-0d9c884ea0e9"
      },
      "execution_count": null,
      "outputs": [
        {
          "output_type": "stream",
          "name": "stdout",
          "text": [
            "[<__main__.Acount object at 0x7c908fae3690>, <__main__.Acount object at 0x7c909085b990>, <__main__.Acount object at 0x7c908fad0950>]\n"
          ]
        }
      ]
    },
    {
      "cell_type": "code",
      "source": [
        "def vip():\n",
        "  a=0\n",
        "  while a<=len(clients):\n",
        "    if"
      ],
      "metadata": {
        "id": "95Hrd8KTQRrs"
      },
      "execution_count": null,
      "outputs": []
    },
    {
      "cell_type": "code",
      "source": [
        "#확인용\n",
        "my=Acount('고은','0')\n",
        "his=Acount('김김','100000')"
      ],
      "metadata": {
        "colab": {
          "base_uri": "https://localhost:8080/"
        },
        "id": "rdtJLAeO_Mw6",
        "outputId": "5880fd78-0e11-4050-f3c1-3129dab7b115"
      },
      "execution_count": null,
      "outputs": [
        {
          "output_type": "stream",
          "name": "stdout",
          "text": [
            "생성된 총 개수: 1 \n",
            "은행이름: SC은행, 예금주: 고은, 계좌번호: 259-97-191294, 잔고: 0\n",
            "생성된 총 개수: 2 \n",
            "은행이름: SC은행, 예금주: 김김, 계좌번호: 1069-410-418608, 잔고: 100000\n"
          ]
        }
      ]
    }
  ]
}