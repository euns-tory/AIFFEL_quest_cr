{
  "nbformat": 4,
  "nbformat_minor": 0,
  "metadata": {
    "colab": {
      "provenance": [],
      "authorship_tag": "ABX9TyNDkiWSFydn/TStRImKYeoR",
      "include_colab_link": true
    },
    "kernelspec": {
      "name": "python3",
      "display_name": "Python 3"
    },
    "language_info": {
      "name": "python"
    }
  },
  "cells": [
    {
      "cell_type": "markdown",
      "metadata": {
        "id": "view-in-github",
        "colab_type": "text"
      },
      "source": [
        "<a href=\"https://colab.research.google.com/github/euns-tory/AIFFEL_quest_cr/blob/main/Python/Quest04/Python_Quest_04.ipynb\" target=\"_parent\"><img src=\"https://colab.research.google.com/assets/colab-badge.svg\" alt=\"Open In Colab\"/></a>"
      ]
    },
    {
      "cell_type": "markdown",
      "source": [
        "첫번째 시도"
      ],
      "metadata": {
        "id": "SKZqKuT_zPAP"
      }
    },
    {
      "cell_type": "code",
      "source": [
        "from posixpath import split\n",
        "from math import *\n",
        "\n",
        "try:\n",
        "  num1=input(\"정수를 한개 입력하세요 \")\n",
        "  num2=input(\"정수를 한개 더 입력하세요 \")  #input에 정수를 입력하더라도 str로 나옴\n",
        "  num1==int(num1)        #따러서 여기서 바로 입력값이 정수가 맞는지 확인할 수 없음.\n",
        "  num2==int(num2)        #정수로 변환 가능한지 확인 후 오류면 except, 아니면 else로 넘어가는 시도를 해야함.\n",
        "\n",
        "\n",
        "except:\n",
        "\tprint ('잘못된 입력입니다. ')\n",
        "\tpass    #pass를 하게 될 경우 그냥 다음 단계로 넘어가버림.처음으로 돌아가고 싶으면 while문이나 매서드 재귀호출? 사용\n",
        "\n",
        "else:\n",
        "\topts=['+','-','*','/','**']\n",
        "\topt=input('연산자를 입력하세요 ex:+,-,*,/,** ')\n",
        "\ttry:\n",
        "\t\topt in opts\n",
        "\texcept:\n",
        "\t\traise ValueError('잘못된 입력입니다. ' )\n",
        "\t\tpass\n",
        "\n",
        "\n",
        "finally:                #finally는 예외 상관없이 항상 실행되는 코드임.따라서 이후 시도에서 제거\n",
        "  if opt=='/' and num2==0:\n",
        "    raise ZeroDivisionError('0으로는 나눌 수 없습니다.')\n",
        "  else:\n",
        "    if opt=='+':\n",
        "      print(num1, opt, num2,'=', num1 + num2)       #num1, num2가 정수형이 아닌 문자형으로 입력됨\n",
        "    elif opt=='-':\n",
        "      print(num1, opt, num2,'=', num1 - num2)\n",
        "    elif opt=='*':\n",
        "      print(num1, opt, num2,'=', num1 * num2)\n",
        "    elif opt=='/':\n",
        "      print(num1, opt, num2,'=', num1 / num2)\n",
        "    elif opt=='**':\n",
        "      print(num1, opt, num2,'=', num1 ** num2)"
      ],
      "metadata": {
        "colab": {
          "base_uri": "https://localhost:8080/",
          "height": 272
        },
        "id": "MuidmSSkzHyH",
        "outputId": "bd9847b0-da1d-40ca-f2c5-7b02139f086e"
      },
      "execution_count": 49,
      "outputs": [
        {
          "output_type": "stream",
          "name": "stdout",
          "text": [
            "정수를 한개 입력하세요 2\n",
            "정수를 한개 더 입력하세요 4.5\n",
            "잘못된 입력입니다. \n"
          ]
        },
        {
          "output_type": "error",
          "ename": "TypeError",
          "evalue": "can't multiply sequence by non-int of type 'str'",
          "traceback": [
            "\u001b[0;31m---------------------------------------------------------------------------\u001b[0m",
            "\u001b[0;31mTypeError\u001b[0m                                 Traceback (most recent call last)",
            "\u001b[0;32m<ipython-input-49-03d1849bde16>\u001b[0m in \u001b[0;36m<cell line: 4>\u001b[0;34m()\u001b[0m\n\u001b[1;32m     32\u001b[0m       \u001b[0mprint\u001b[0m\u001b[0;34m(\u001b[0m\u001b[0mnum1\u001b[0m\u001b[0;34m,\u001b[0m \u001b[0mopt\u001b[0m\u001b[0;34m,\u001b[0m \u001b[0mnum2\u001b[0m\u001b[0;34m,\u001b[0m\u001b[0;34m'='\u001b[0m\u001b[0;34m,\u001b[0m \u001b[0mnum1\u001b[0m \u001b[0;34m-\u001b[0m \u001b[0mnum2\u001b[0m\u001b[0;34m)\u001b[0m\u001b[0;34m\u001b[0m\u001b[0;34m\u001b[0m\u001b[0m\n\u001b[1;32m     33\u001b[0m     \u001b[0;32melif\u001b[0m \u001b[0mopt\u001b[0m\u001b[0;34m==\u001b[0m\u001b[0;34m'*'\u001b[0m\u001b[0;34m:\u001b[0m\u001b[0;34m\u001b[0m\u001b[0;34m\u001b[0m\u001b[0m\n\u001b[0;32m---> 34\u001b[0;31m       \u001b[0mprint\u001b[0m\u001b[0;34m(\u001b[0m\u001b[0mnum1\u001b[0m\u001b[0;34m,\u001b[0m \u001b[0mopt\u001b[0m\u001b[0;34m,\u001b[0m \u001b[0mnum2\u001b[0m\u001b[0;34m,\u001b[0m\u001b[0;34m'='\u001b[0m\u001b[0;34m,\u001b[0m \u001b[0mnum1\u001b[0m \u001b[0;34m*\u001b[0m \u001b[0mnum2\u001b[0m\u001b[0;34m)\u001b[0m\u001b[0;34m\u001b[0m\u001b[0;34m\u001b[0m\u001b[0m\n\u001b[0m\u001b[1;32m     35\u001b[0m     \u001b[0;32melif\u001b[0m \u001b[0mopt\u001b[0m\u001b[0;34m==\u001b[0m\u001b[0;34m'/'\u001b[0m\u001b[0;34m:\u001b[0m\u001b[0;34m\u001b[0m\u001b[0;34m\u001b[0m\u001b[0m\n\u001b[1;32m     36\u001b[0m       \u001b[0mprint\u001b[0m\u001b[0;34m(\u001b[0m\u001b[0mnum1\u001b[0m\u001b[0;34m,\u001b[0m \u001b[0mopt\u001b[0m\u001b[0;34m,\u001b[0m \u001b[0mnum2\u001b[0m\u001b[0;34m,\u001b[0m\u001b[0;34m'='\u001b[0m\u001b[0;34m,\u001b[0m \u001b[0mnum1\u001b[0m \u001b[0;34m/\u001b[0m \u001b[0mnum2\u001b[0m\u001b[0;34m)\u001b[0m\u001b[0;34m\u001b[0m\u001b[0;34m\u001b[0m\u001b[0m\n",
            "\u001b[0;31mTypeError\u001b[0m: can't multiply sequence by non-int of type 'str'"
          ]
        }
      ]
    },
    {
      "cell_type": "code",
      "source": [
        "a=input(5)\n",
        "type(a)"
      ],
      "metadata": {
        "colab": {
          "base_uri": "https://localhost:8080/"
        },
        "id": "8vEYTKJc3JDg",
        "outputId": "397ac7e2-75d9-4706-b26b-8d45389f7872"
      },
      "execution_count": 42,
      "outputs": [
        {
          "name": "stdout",
          "output_type": "stream",
          "text": [
            "55\n"
          ]
        },
        {
          "output_type": "execute_result",
          "data": {
            "text/plain": [
              "str"
            ]
          },
          "metadata": {},
          "execution_count": 42
        }
      ]
    },
    {
      "cell_type": "markdown",
      "source": [
        "두번째 시도- 한 번 돌리는 것은 오류 없이 나오나 이후 계속 계산기를 반복할 수가 없음"
      ],
      "metadata": {
        "id": "aK0d1P09zObr"
      }
    },
    {
      "cell_type": "code",
      "execution_count": 47,
      "metadata": {
        "colab": {
          "base_uri": "https://localhost:8080/"
        },
        "id": "rEUPSo3wnVaY",
        "outputId": "1d3b0e65-aecd-40c7-ce25-df501d156acf"
      },
      "outputs": [
        {
          "output_type": "stream",
          "name": "stdout",
          "text": [
            "정수를 한개 입력하세요: 100\n",
            "정수를 한개 더 입력하세요: 4\n",
            "연산자를 입력하세요 ex: +, -, *, /, **: *\n",
            "100 * 4 = 400\n"
          ]
        }
      ],
      "source": [
        "from posixpath import split\n",
        "from math import *\n",
        "\n",
        "try:\n",
        "    num1 = input(\"정수를 한개 입력하세요: \")\n",
        "    num2 = input(\"정수를 한개 더 입력하세요: \")\n",
        "\n",
        "    num1 = int(num1)  # str유형으로 나온 num1, num2를 정수로 변환\n",
        "    num2 = int(num2)\n",
        "\n",
        "except ValueError:   #발생할 예외를 미리 입력하여 해당 예외 발생 시 즉시 except 발동\n",
        "    print('잘못된 입력입니다. 정수를 입력해주세요.')\n",
        "\n",
        "else:\n",
        "    opts = ['+', '-', '*', '/', '**']\n",
        "    opt = input('연산자를 입력하세요 ex: +, -, *, /, **: ')\n",
        "    #조건문으로 예외 처리하기\n",
        "    if opt not in opts:    #리스트에 있는 원소인지 확인하는 논리연산자\n",
        "        print('잘못된 입력입니다. 지원하지 않는 연산자입니다.')\n",
        "    else:\n",
        "        try:\n",
        "            if opt == '/' and num2 == 0:\n",
        "                raise ZeroDivisionError('0으로는 나눌 수 없습니다.')\n",
        "            elif opt == '+':\n",
        "                print(num1, opt, num2, '=', num1 + num2)   #f'{num1} {opt} {num2} = {num1 + num2}' 포멧팅 형태로 작성 가능\n",
        "            elif opt == '-':\n",
        "                print(num1, opt, num2, '=' ,num1 - num2)\n",
        "            elif opt == '*':\n",
        "                print(num1, opt, num2, '=', num1 * num2)\n",
        "            elif opt == '/':\n",
        "                print(num1, opt, num2 ,'=', num1 / num2)\n",
        "            elif opt == '**':\n",
        "                print(num1, opt, num2 ,'=', num1 ** num2)\n",
        "        except ZeroDivisionError as e:\n",
        "            print(e)"
      ]
    },
    {
      "cell_type": "markdown",
      "source": [
        "결과"
      ],
      "metadata": {
        "id": "MaKAnxGnzTm3"
      }
    },
    {
      "cell_type": "code",
      "source": [
        "from math import *\n",
        "\n",
        "# 정수를 입력받는 함수\n",
        "def get_integer_input(a):    #입력받을 어떤 값을 일단 변수로 지정\n",
        "    while True:      #정수가 아닌 경우 반복하는 함수이다.(예외문에서는 예외가 발생한 경우가 True)\n",
        "        try:          #차후 try-catch 구문 공부하기\n",
        "            return int(input(a))  # 정수로 변환하여 반환되는 경우 함수 종단\n",
        "        except ValueError:\n",
        "            print('잘못된 입력입니다. 정수를 입력해주세요.')  # 잘못된 입력 처리\n",
        "\n",
        "# 프로그램 시작\n",
        "while True:\n",
        "    num1 = get_integer_input(\"정수를 한개 입력하세요: \")\n",
        "    num2 = get_integer_input(\"정수를 한개 더 입력하세요: \")\n",
        "\n",
        "    opts = ['+', '-', '*', '/', '**']\n",
        "    opt = input('연산자를 입력하세요 ex: +, -, *, /, **: ')\n",
        "\n",
        "    if opt not in opts:\n",
        "        print('잘못된 입력입니다. 지원하지 않는 연산자입니다.')\n",
        "    else:\n",
        "        try:\n",
        "            if opt == '/' and num2 == 0:\n",
        "                raise ZeroDivisionError('0으로는 나눌 수 없습니다.')\n",
        "            elif opt == '+':\n",
        "                print(num1, opt, num2, '=', num1 + num2)\n",
        "            elif opt == '-':\n",
        "                print(num1, opt, num2, '=' ,num1 - num2)\n",
        "            elif opt == '*':\n",
        "                print(num1, opt, num2, '=', num1 * num2)\n",
        "            elif opt == '/':\n",
        "                print(num1, opt, num2 ,'=', num1 / num2)\n",
        "            elif opt == '**':\n",
        "                print(num1, opt, num2 ,'=', num1 ** num2)\n",
        "        except ZeroDivisionError as e:\n",
        "            print(e)\n",
        "\n",
        "    # 계산 후 다시 할지 묻기\n",
        "    again = input(\"계속 계산을 하시겠습니까? (y/n): \").strip().lower()\n",
        "    if again != 'y':\n",
        "        print(\"계산기를 종료합니다.\")\n",
        "        break"
      ],
      "metadata": {
        "colab": {
          "base_uri": "https://localhost:8080/"
        },
        "id": "fOlI6ma0yrDv",
        "outputId": "23469924-3d56-4c0e-9236-67e8d999ec32"
      },
      "execution_count": 52,
      "outputs": [
        {
          "output_type": "stream",
          "name": "stdout",
          "text": [
            "정수를 한개 입력하세요: 10\n",
            "정수를 한개 더 입력하세요: 4.5\n",
            "잘못된 입력입니다. 정수를 입력해주세요.\n",
            "정수를 한개 더 입력하세요: 8\n",
            "연산자를 입력하세요 ex: +, -, *, /, **: -\n",
            "10 - 8 = 2\n",
            "계속 계산을 하시겠습니까? (y/n): n\n",
            "계산기를 종료합니다.\n"
          ]
        }
      ]
    },
    {
      "cell_type": "markdown",
      "source": [
        "![image.png](data:image/png;base64,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)"
      ],
      "metadata": {
        "id": "U3WhUjqU7C-x"
      }
    },
    {
      "cell_type": "markdown",
      "source": [
        "회고: 코드를 보면 이해는 되나 직접 코드를 작성하려면 생각이 나지 않았다. 앞으로 더 많은 코드를 직접 짜보는 연습을 하며 익숙해져야겠다고 생각했다."
      ],
      "metadata": {
        "id": "44d13VJA3kmE"
      }
    }
  ]
}